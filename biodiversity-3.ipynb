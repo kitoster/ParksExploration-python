{
 "cells": [
  {
   "cell_type": "markdown",
   "metadata": {},
   "source": [
    "# National Parks Biodiversity Exploration"
   ]
  },
  {
   "cell_type": "code",
   "execution_count": 5,
   "metadata": {},
   "outputs": [],
   "source": [
    "from matplotlib import pyplot as plt\n",
    "import pandas as pd"
   ]
  },
  {
   "cell_type": "markdown",
   "metadata": {},
   "source": [
    "# Overview\n",
    "During this project I'll be exploring two CSV files. The first is `species_info.csv` with data about different species in our National Parks."
   ]
  },
  {
   "cell_type": "code",
   "execution_count": 6,
   "metadata": {},
   "outputs": [],
   "source": [
    "species = pd.read_csv('species_info.csv')"
   ]
  },
  {
   "cell_type": "markdown",
   "metadata": {},
   "source": [
    "First, I inspected the species_info file - at first glance, there is a data frame with categories for scientific names, common names, and conservation status. "
   ]
  },
  {
   "cell_type": "code",
   "execution_count": 6,
   "metadata": {
    "scrolled": true
   },
   "outputs": [
    {
     "name": "stdout",
     "output_type": "stream",
     "text": [
      "  category                scientific_name  \\\n",
      "0   Mammal  Clethrionomys gapperi gapperi   \n",
      "1   Mammal                      Bos bison   \n",
      "2   Mammal                     Bos taurus   \n",
      "3   Mammal                     Ovis aries   \n",
      "4   Mammal                 Cervus elaphus   \n",
      "\n",
      "                                        common_names conservation_status  \n",
      "0                           Gapper's Red-Backed Vole                 NaN  \n",
      "1                              American Bison, Bison                 NaN  \n",
      "2  Aurochs, Aurochs, Domestic Cattle (Feral), Dom...                 NaN  \n",
      "3  Domestic Sheep, Mouflon, Red Sheep, Sheep (Feral)                 NaN  \n",
      "4                                      Wapiti Or Elk                 NaN  \n"
     ]
    }
   ],
   "source": [
    "print(species.head())"
   ]
  },
  {
   "cell_type": "code",
   "execution_count": 7,
   "metadata": {},
   "outputs": [
    {
     "name": "stdout",
     "output_type": "stream",
     "text": [
      "              category    scientific_name        common_names  \\\n",
      "count             5824               5824                5824   \n",
      "unique               7               5541                5504   \n",
      "top     Vascular Plant  Castor canadensis  Brachythecium Moss   \n",
      "freq              4470                  3                   7   \n",
      "\n",
      "       conservation_status  \n",
      "count                  191  \n",
      "unique                   4  \n",
      "top     Species of Concern  \n",
      "freq                   161  \n"
     ]
    }
   ],
   "source": [
    "print(species.describe())"
   ]
  },
  {
   "cell_type": "code",
   "execution_count": 8,
   "metadata": {
    "scrolled": true
   },
   "outputs": [
    {
     "name": "stdout",
     "output_type": "stream",
     "text": [
      "<class 'pandas.core.frame.DataFrame'>\n",
      "RangeIndex: 5824 entries, 0 to 5823\n",
      "Data columns (total 4 columns):\n",
      " #   Column               Non-Null Count  Dtype \n",
      "---  ------               --------------  ----- \n",
      " 0   category             5824 non-null   object\n",
      " 1   scientific_name      5824 non-null   object\n",
      " 2   common_names         5824 non-null   object\n",
      " 3   conservation_status  191 non-null    object\n",
      "dtypes: object(4)\n",
      "memory usage: 182.1+ KB\n",
      "None\n"
     ]
    }
   ],
   "source": [
    "print(species.info())"
   ]
  },
  {
   "cell_type": "markdown",
   "metadata": {},
   "source": [
    "# Understanding the data\n",
    "To learn more about the data, I gathered the amount of unique species, values of the 'category' column, and the values of the 'conservation_status' column. "
   ]
  },
  {
   "cell_type": "code",
   "execution_count": 7,
   "metadata": {},
   "outputs": [
    {
     "name": "stdout",
     "output_type": "stream",
     "text": [
      "5541\n"
     ]
    }
   ],
   "source": [
    "species_count = species.scientific_name.nunique()\n",
    "print(species_count)"
   ]
  },
  {
   "cell_type": "code",
   "execution_count": 14,
   "metadata": {},
   "outputs": [
    {
     "name": "stdout",
     "output_type": "stream",
     "text": [
      "['Mammal' 'Bird' 'Reptile' 'Amphibian' 'Fish' 'Vascular Plant'\n",
      " 'Nonvascular Plant']\n"
     ]
    }
   ],
   "source": [
    "species_type = species.category.unique()\n",
    "print(species_type)"
   ]
  },
  {
   "cell_type": "code",
   "execution_count": 16,
   "metadata": {},
   "outputs": [
    {
     "name": "stdout",
     "output_type": "stream",
     "text": [
      "[nan 'Species of Concern' 'Endangered' 'Threatened' 'In Recovery']\n"
     ]
    }
   ],
   "source": [
    "conservation_statuses = species.conservation_status.unique()\n",
    "print(conservation_statuses)"
   ]
  },
  {
   "cell_type": "markdown",
   "metadata": {},
   "source": [
    "The conservation_status column has a few different values:\n",
    "- `Species of Concern`: declining or appear to be in need of conservation\n",
    "- `Threatened`: vulnerable to endangerment in the near future\n",
    "- `Endangered`: seriously at risk of extinction\n",
    "- `In Recovery`: formerly `Endangered`, but currnetly neither in danger of extinction throughout all or a significant portion of its range\n",
    "\n",
    "Next, I'll explore how many species belong to each of these categories. "
   ]
  },
  {
   "cell_type": "code",
   "execution_count": 17,
   "metadata": {},
   "outputs": [
    {
     "name": "stdout",
     "output_type": "stream",
     "text": [
      "  conservation_status  scientific_name\n",
      "0          Endangered               15\n",
      "1         In Recovery                4\n",
      "2  Species of Concern              151\n",
      "3          Threatened               10\n"
     ]
    }
   ],
   "source": [
    "conservation_counts = species.groupby('conservation_status').scientific_name.nunique().reset_index()\n",
    "print(conservation_counts)"
   ]
  },
  {
   "cell_type": "markdown",
   "metadata": {},
   "source": [
    "The results of this count didn't look right - those numbers should be higher given the fact that there are over 200 species in the table. Since the groupby function does not include 'None,' I'll use .fillna to fill those values in and get an accurate result. "
   ]
  },
  {
   "cell_type": "code",
   "execution_count": 18,
   "metadata": {},
   "outputs": [],
   "source": [
    "species.fillna('No Intervention', inplace = True)"
   ]
  },
  {
   "cell_type": "markdown",
   "metadata": {},
   "source": [
    "Now I'll run the same function as before."
   ]
  },
  {
   "cell_type": "code",
   "execution_count": 19,
   "metadata": {},
   "outputs": [
    {
     "name": "stdout",
     "output_type": "stream",
     "text": [
      "  conservation_status  scientific_name\n",
      "0          Endangered               15\n",
      "1         In Recovery                4\n",
      "2     No Intervention             5363\n",
      "3  Species of Concern              151\n",
      "4          Threatened               10\n"
     ]
    }
   ],
   "source": [
    "conservation_counts = species.groupby('conservation_status').scientific_name.nunique().reset_index()\n",
    "print(conservation_counts)"
   ]
  },
  {
   "cell_type": "markdown",
   "metadata": {},
   "source": [
    "Now I can create a bar chart using matplotlib to provide a visualization of these numbers. To start this off, I'll sort the columns based on the number of species in each category. \n",
    "\n",
    "The following code will create a DataFrame 'protection_counts' sorted by scientific name. I can then display a bar chart showing the conservation status by species."
   ]
  },
  {
   "cell_type": "code",
   "execution_count": 20,
   "metadata": {},
   "outputs": [],
   "source": [
    "protection_counts = species.groupby('conservation_status')\\\n",
    "    .scientific_name.nunique().reset_index()\\\n",
    "    .sort_values(by='scientific_name')"
   ]
  },
  {
   "cell_type": "code",
   "execution_count": 21,
   "metadata": {},
   "outputs": [
    {
     "data": {
      "image/png": "[encoded data removed]",
      "text/plain": [
       "<Figure size 1000x400 with 1 Axes>"
      ]
     },
     "metadata": {},
     "output_type": "display_data"
    }
   ],
   "source": [
    "plt.figure(figsize=(10, 4))\n",
    "ax = plt.subplot()\n",
    "plt.bar(range(len(protection_counts)),protection_counts.scientific_name.values)\n",
    "ax.set_xticks(range(len(protection_counts)))\n",
    "ax.set_xticklabels(protection_counts.conservation_status.values)\n",
    "plt.ylabel('Number of Species')\n",
    "plt.title('Conservation Status by Species')\n",
    "labels = [e.get_text() for e in ax.get_xticklabels()]\n",
    "plt.show()"
   ]
  },
  {
   "cell_type": "markdown",
   "metadata": {},
   "source": [
    "# Investigating the Endangered Species\n",
    "Are certain types of species more likely to be endangered?"
   ]
  },
  {
   "cell_type": "code",
   "execution_count": 22,
   "metadata": {},
   "outputs": [],
   "source": [
    "species['is_protected'] = species.conservation_status != 'No Intervention'"
   ]
  },
  {
   "cell_type": "code",
   "execution_count": 23,
   "metadata": {},
   "outputs": [],
   "source": [
    "category_counts = species.groupby(['category', 'is_protected']).scientific_name.nunique().reset_index()"
   ]
  },
  {
   "cell_type": "code",
   "execution_count": 25,
   "metadata": {},
   "outputs": [
    {
     "name": "stdout",
     "output_type": "stream",
     "text": [
      "    category  is_protected  scientific_name\n",
      "0  Amphibian         False               72\n",
      "1  Amphibian          True                7\n",
      "2       Bird         False              413\n",
      "3       Bird          True               75\n",
      "4       Fish         False              115\n"
     ]
    }
   ],
   "source": [
    "print(category_counts.head())"
   ]
  },
  {
   "cell_type": "markdown",
   "metadata": {
    "collapsed": true
   },
   "source": [
    "To make this data easier to read:"
   ]
  },
  {
   "cell_type": "code",
   "execution_count": 26,
   "metadata": {},
   "outputs": [],
   "source": [
    "category_pivot = category_counts.pivot(columns='is_protected',\n",
    "                      index='category',\n",
    "                      values='scientific_name')\\\n",
    "                      .reset_index()"
   ]
  },
  {
   "cell_type": "code",
   "execution_count": 28,
   "metadata": {},
   "outputs": [
    {
     "name": "stdout",
     "output_type": "stream",
     "text": [
      "is_protected           category  False  True\n",
      "0                     Amphibian     72     7\n",
      "1                          Bird    413    75\n",
      "2                          Fish    115    11\n",
      "3                        Mammal    146    30\n",
      "4             Nonvascular Plant    328     5\n",
      "5                       Reptile     73     5\n",
      "6                Vascular Plant   4216    46\n"
     ]
    }
   ],
   "source": [
    "print(category_pivot)"
   ]
  },
  {
   "cell_type": "markdown",
   "metadata": {},
   "source": [
    "I'll change False to not_protected and True to protected to make the data more clear. I'll also create a column called percent_protected. "
   ]
  },
  {
   "cell_type": "code",
   "execution_count": 29,
   "metadata": {},
   "outputs": [],
   "source": [
    "category_pivot.columns = ['category', 'not_protected', 'protected']"
   ]
  },
  {
   "cell_type": "code",
   "execution_count": 31,
   "metadata": {},
   "outputs": [
    {
     "name": "stdout",
     "output_type": "stream",
     "text": [
      "            category  not_protected  protected  percent_protected\n",
      "0          Amphibian             72          7           0.088608\n",
      "1               Bird            413         75           0.153689\n",
      "2               Fish            115         11           0.087302\n",
      "3             Mammal            146         30           0.170455\n",
      "4  Nonvascular Plant            328          5           0.015015\n",
      "5            Reptile             73          5           0.064103\n",
      "6     Vascular Plant           4216         46           0.010793\n"
     ]
    }
   ],
   "source": [
    "category_pivot['percent_protected'] = category_pivot.protected / (category_pivot.protected + category_pivot.not_protected)\n",
    "\n",
    "print(category_pivot)"
   ]
  },
  {
   "cell_type": "markdown",
   "metadata": {},
   "source": [
    "It looks as though species in Mammal are more likely to be endangered than species in Bird. Next I'll do a significance test to see if this is true. I'll be using a chi squared test, and the contingency table will look as follows: "
   ]
  },
  {
   "cell_type": "markdown",
   "metadata": {},
   "source": [
    "||protected|not protected|\n",
    "|-|-|-|\n",
    "|Mammal|?|?|\n",
    "|Bird|?|?|"
   ]
  },
  {
   "cell_type": "code",
   "execution_count": 18,
   "metadata": {},
   "outputs": [],
   "source": [
    "from scipy.stats import chi2_contingency"
   ]
  },
  {
   "cell_type": "code",
   "execution_count": 19,
   "metadata": {
    "scrolled": true
   },
   "outputs": [
    {
     "name": "stdout",
     "output_type": "stream",
     "text": [
      "0.6875948096661336\n"
     ]
    }
   ],
   "source": [
    "contingency = [[30, 146],\n",
    "              [75, 413]]\n",
    "\n",
    "pval = chi2_contingency(contingency)[1]\n",
    "print(pval)"
   ]
  },
  {
   "cell_type": "markdown",
   "metadata": {},
   "source": [
    "This difference doesn't appear significant! Now I'll test the difference between Reptile and Mammal. "
   ]
  },
  {
   "cell_type": "code",
   "execution_count": 20,
   "metadata": {},
   "outputs": [
    {
     "name": "stdout",
     "output_type": "stream",
     "text": [
      "0.03835559022969898\n"
     ]
    }
   ],
   "source": [
    "contingency_reptile_mammal = [[30, 146],\n",
    "                              [5, 73]]\n",
    "\n",
    "pval_reptile_mammal = chi2_contingency(contingency_reptile_mammal)[1]\n",
    "print(pval_reptile_mammal)"
   ]
  },
  {
   "cell_type": "markdown",
   "metadata": {},
   "source": [
    "This difference is indeed significant. Initially, we could see the slight difference in percentages of birds and mammals that fall into a protected category. The null hypothesis is that this difference was just chance. After comparing the percentages of protected reptiles and mammals and running the same chi-squared test, the p-value of ~0.038 showed this is significant. Therefore, we can conclude that certain types of species are more likely to be endangered than others."
   ]
  },
  {
   "cell_type": "markdown",
   "metadata": {},
   "source": [
    "# Sheep Spottings"
   ]
  },
  {
   "cell_type": "markdown",
   "metadata": {},
   "source": [
    "The second csv file 'observations.csv' includes recorded sightings of different species at several national parks for the past 7 days. Here we can see the columns scientific_name, park_name, and observations."
   ]
  },
  {
   "cell_type": "code",
   "execution_count": 22,
   "metadata": {},
   "outputs": [
    {
     "name": "stdout",
     "output_type": "stream",
     "text": [
      "            scientific_name                            park_name  observations\n",
      "0        Vicia benghalensis  Great Smoky Mountains National Park            68\n",
      "1            Neovison vison  Great Smoky Mountains National Park            77\n",
      "2         Prunus subcordata               Yosemite National Park           138\n",
      "3      Abutilon theophrasti                  Bryce National Park            84\n",
      "4  Githopsis specularioides  Great Smoky Mountains National Park            85\n"
     ]
    }
   ],
   "source": [
    "observations = pd.read_csv('observations.csv')\n",
    "print(observations.head())"
   ]
  },
  {
   "cell_type": "markdown",
   "metadata": {},
   "source": [
    "Some scientists are studying the number of sheep sightings at different national parks. It would be helpful to know which rows of 'species' refer to sheep. "
   ]
  },
  {
   "cell_type": "markdown",
   "metadata": {},
   "source": [
    "The following lambda function allows a new column called 'is_sheep', which will be true if common_names contains 'sheep', and false otherwise. "
   ]
  },
  {
   "cell_type": "code",
   "execution_count": 23,
   "metadata": {},
   "outputs": [],
   "source": [
    "species['is_sheep'] = species.common_names.apply(lambda x: 'Sheep' in x)"
   ]
  },
  {
   "cell_type": "markdown",
   "metadata": {},
   "source": [
    "Now I'll select the rows of species where is_sheep is True and examine the results."
   ]
  },
  {
   "cell_type": "code",
   "execution_count": 27,
   "metadata": {},
   "outputs": [
    {
     "name": "stdout",
     "output_type": "stream",
     "text": [
      "            category              scientific_name  \\\n",
      "3             Mammal                   Ovis aries   \n",
      "1139  Vascular Plant             Rumex acetosella   \n",
      "2233  Vascular Plant           Festuca filiformis   \n",
      "3014          Mammal              Ovis canadensis   \n",
      "3758  Vascular Plant             Rumex acetosella   \n",
      "3761  Vascular Plant            Rumex paucifolius   \n",
      "4091  Vascular Plant                 Carex illota   \n",
      "4383  Vascular Plant  Potentilla ovina var. ovina   \n",
      "4446          Mammal      Ovis canadensis sierrae   \n",
      "\n",
      "                                           common_names conservation_status  \\\n",
      "3     Domestic Sheep, Mouflon, Red Sheep, Sheep (Feral)                 NaN   \n",
      "1139                        Sheep Sorrel, Sheep Sorrell                 NaN   \n",
      "2233                              Fineleaf Sheep Fescue                 NaN   \n",
      "3014                       Bighorn Sheep, Bighorn Sheep  Species of Concern   \n",
      "3758  Common Sheep Sorrel, Field Sorrel, Red Sorrel,...                 NaN   \n",
      "3761   Alpine Sheep Sorrel, Fewleaved Dock, Meadow Dock                 NaN   \n",
      "4091                       Sheep Sedge, Smallhead Sedge                 NaN   \n",
      "4383                                   Sheep Cinquefoil                 NaN   \n",
      "4446                        Sierra Nevada Bighorn Sheep          Endangered   \n",
      "\n",
      "      is_sheep  \n",
      "3         True  \n",
      "1139      True  \n",
      "2233      True  \n",
      "3014      True  \n",
      "3758      True  \n",
      "3761      True  \n",
      "4091      True  \n",
      "4383      True  \n",
      "4446      True  \n"
     ]
    }
   ],
   "source": [
    "species_is_sheep = species[species.is_sheep]\n",
    "print(species_is_sheep)"
   ]
  },
  {
   "cell_type": "markdown",
   "metadata": {},
   "source": [
    "A lot of these results are plants, so I'll add a check to make sure the category is 'Mammal'. "
   ]
  },
  {
   "cell_type": "code",
   "execution_count": 28,
   "metadata": {},
   "outputs": [],
   "source": [
    "sheep_species = species[(species.is_sheep) & (species.category == 'Mammal')]"
   ]
  },
  {
   "cell_type": "markdown",
   "metadata": {},
   "source": [
    "Now I'll merge sheep_species with observations to get a DataFrame containing observations of sheep. "
   ]
  },
  {
   "cell_type": "code",
   "execution_count": 29,
   "metadata": {},
   "outputs": [
    {
     "name": "stdout",
     "output_type": "stream",
     "text": [
      "<bound method NDFrame.head of    category          scientific_name  \\\n",
      "0    Mammal               Ovis aries   \n",
      "1    Mammal               Ovis aries   \n",
      "2    Mammal               Ovis aries   \n",
      "3    Mammal               Ovis aries   \n",
      "4    Mammal          Ovis canadensis   \n",
      "5    Mammal          Ovis canadensis   \n",
      "6    Mammal          Ovis canadensis   \n",
      "7    Mammal          Ovis canadensis   \n",
      "8    Mammal  Ovis canadensis sierrae   \n",
      "9    Mammal  Ovis canadensis sierrae   \n",
      "10   Mammal  Ovis canadensis sierrae   \n",
      "11   Mammal  Ovis canadensis sierrae   \n",
      "\n",
      "                                         common_names conservation_status  \\\n",
      "0   Domestic Sheep, Mouflon, Red Sheep, Sheep (Feral)                 NaN   \n",
      "1   Domestic Sheep, Mouflon, Red Sheep, Sheep (Feral)                 NaN   \n",
      "2   Domestic Sheep, Mouflon, Red Sheep, Sheep (Feral)                 NaN   \n",
      "3   Domestic Sheep, Mouflon, Red Sheep, Sheep (Feral)                 NaN   \n",
      "4                        Bighorn Sheep, Bighorn Sheep  Species of Concern   \n",
      "5                        Bighorn Sheep, Bighorn Sheep  Species of Concern   \n",
      "6                        Bighorn Sheep, Bighorn Sheep  Species of Concern   \n",
      "7                        Bighorn Sheep, Bighorn Sheep  Species of Concern   \n",
      "8                         Sierra Nevada Bighorn Sheep          Endangered   \n",
      "9                         Sierra Nevada Bighorn Sheep          Endangered   \n",
      "10                        Sierra Nevada Bighorn Sheep          Endangered   \n",
      "11                        Sierra Nevada Bighorn Sheep          Endangered   \n",
      "\n",
      "    is_sheep                            park_name  observations  \n",
      "0       True               Yosemite National Park           126  \n",
      "1       True  Great Smoky Mountains National Park            76  \n",
      "2       True                  Bryce National Park           119  \n",
      "3       True            Yellowstone National Park           221  \n",
      "4       True            Yellowstone National Park           219  \n",
      "5       True                  Bryce National Park           109  \n",
      "6       True               Yosemite National Park           117  \n",
      "7       True  Great Smoky Mountains National Park            48  \n",
      "8       True            Yellowstone National Park            67  \n",
      "9       True               Yosemite National Park            39  \n",
      "10      True                  Bryce National Park            22  \n",
      "11      True  Great Smoky Mountains National Park            25  >\n"
     ]
    }
   ],
   "source": [
    "sheep_observations = pd.merge(\n",
    "  sheep_species,\n",
    "  observations\n",
    ")\n",
    "\n",
    "print(sheep_observations.head)"
   ]
  },
  {
   "cell_type": "markdown",
   "metadata": {},
   "source": [
    "Now I can easily find out how the total number of sheep observations across the three species that were made at each national park. For this I can use 'groupby' to get the sum of observations for each park name, saved to the variable obs_by_park. "
   ]
  },
  {
   "cell_type": "code",
   "execution_count": 30,
   "metadata": {},
   "outputs": [
    {
     "name": "stdout",
     "output_type": "stream",
     "text": [
      "                             park_name  observations\n",
      "0                  Bryce National Park           250\n",
      "1  Great Smoky Mountains National Park           149\n",
      "2            Yellowstone National Park           507\n",
      "3               Yosemite National Park           282\n"
     ]
    }
   ],
   "source": [
    "obs_by_park = sheep_observations.groupby('park_name').observations.sum().reset_index()\n",
    "print(obs_by_park)"
   ]
  },
  {
   "cell_type": "markdown",
   "metadata": {},
   "source": [
    "The following bar chart shows the different number of observations per week at each park."
   ]
  },
  {
   "cell_type": "code",
   "execution_count": 31,
   "metadata": {},
   "outputs": [
    {
     "data": {
      "image/png": "[encoded data removed]",
      "text/plain": [
       "<Figure size 1600x400 with 1 Axes>"
      ]
     },
     "metadata": {},
     "output_type": "display_data"
    }
   ],
   "source": [
    "plt.figure(figsize=(16, 4))\n",
    "ax = plt.subplot()\n",
    "plt.bar(range(len(obs_by_park)),\n",
    "        obs_by_park.observations.values)\n",
    "ax.set_xticks(range(len(obs_by_park)))\n",
    "ax.set_xticklabels(obs_by_park.park_name.values)\n",
    "plt.ylabel('Number of Observations')\n",
    "plt.title('Observations of Sheep per Week')\n",
    "plt.show()"
   ]
  },
  {
   "cell_type": "markdown",
   "metadata": {},
   "source": [
    "# Foot and Mouth Reduction Effort\n",
    "\n",
    "The scientists know that 15% of sheep at Bryce National Park have foot and mouth disease.  Park rangers at Yellowstone National Park have been running a program to reduce the rate of foot and mouth disease at that park.  The scientists want to test whether or not this program is working.  They want to be able to detect reductions of at least 5 percentage points.  For instance, if 10% of sheep in Yellowstone have foot and mouth disease, they'd like to be able to know this, with confidence. I also want to know how many weeks it would take to observe enough sheep at Bryce and Yellowstone."
   ]
  },
  {
   "cell_type": "code",
   "execution_count": 9,
   "metadata": {},
   "outputs": [
    {
     "name": "stdout",
     "output_type": "stream",
     "text": [
      "3.48\n",
      "1.7159763313609468\n"
     ]
    }
   ],
   "source": [
    "baseline = 15\n",
    "\n",
    "minimum_detectable_effect = 100*5./15\n",
    "\n",
    "sample_size_per_variant = 870\n",
    "\n",
    "yellowstone_weeks_observing = sample_size_per_variant/507.\n",
    "\n",
    "bryce_weeks_observing = sample_size_per_variant/250.\n",
    "\n",
    "print(bryce_weeks_observing)\n",
    "print(yellowstone_weeks_observing)"
   ]
  },
  {
   "cell_type": "markdown",
   "metadata": {},
   "source": [
    "Given a baseline of 15% occurrence of foot and mouth disease in sheep at Bryce National Park, if the scientists wanted to be sure that a >5% drop in observed cases of foot and mouth disease in the sheep at Yellowstone was significant they would have to observe at least 870 sheep.\n",
    "\n",
    "This would take approximately one week of observing in Yellowstone to see that many sheep, or approximately two weeks in Bryce to see that many sheep."
   ]
  },
  {
   "cell_type": "markdown",
   "metadata": {},
   "source": [
    "# Conclusion\n",
    "\n",
    "Initially there appeared to be a difference in the perecentages of birds and mammals that are in the protected category, which could have been the result of chance. The chi-squared test gave a p-value of ~.0688, meaning the difference between the percentages was not significant. However, the percentages of protected reptiles and mammals gave a p-value of ~0.038 using the. same test, which is significant. Therefore, certain types of species are more likely to be endangered than others."
   ]
  },
  {
   "cell_type": "markdown",
   "metadata": {},
   "source": [
    "It was also found that given a baseline of 15% occurrence of foot and mouth disease in sheep at Bryce National Park, if scientists wanted to be sure that a >5% drop in observed cases was significant they must observe at least 870 sheep. This would take about one week of observation in Yellowstone, and about two weeks in Bryce to see enough sheep. "
   ]
  }
 ],
 "metadata": {
  "kernelspec": {
   "display_name": "Python 3 (ipykernel)",
   "language": "python",
   "name": "python3"
  },
  "language_info": {
   "codemirror_mode": {
    "name": "ipython",
    "version": 3
   },
   "file_extension": ".py",
   "mimetype": "text/x-python",
   "name": "python",
   "nbconvert_exporter": "python",
   "pygments_lexer": "ipython3",
   "version": "3.10.9"
  }
 },
 "nbformat": 4,
 "nbformat_minor": 2
}
